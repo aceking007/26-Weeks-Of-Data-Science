{
 "cells": [
  {
   "cell_type": "markdown",
   "metadata": {},
   "source": [
    "<img src=\"../images/26-weeks-of-data-science-banner.jpg\"/>"
   ]
  },
  {
   "cell_type": "markdown",
   "metadata": {
    "slideshow": {
     "slide_type": "slide"
    }
   },
   "source": [
    "<h1 align=\"center\">Summarizing your Data with Descriptive Statistics </h1>"
   ]
  },
  {
   "cell_type": "markdown",
   "metadata": {
    "slideshow": {
     "slide_type": "subslide"
    }
   },
   "source": [
    "<img src=\"../images/Probability-and-Statistics.png\" alt=\"Python\" style=\"width: 400px;\"/>\n",
    "<br/>\n",
    "Image Source : https://www.onlinebooksreview.com/articles/best-probability-and-statistics-books"
   ]
  },
  {
   "cell_type": "markdown",
   "metadata": {},
   "source": [
    "## What is Descriptive Statistics ?\n",
    "***\n",
    "\n",
    "<b>Descriptive Statistics</b>, provides a summary of your dataset giving a measure of the centre, dispersion and shape of your data. Here the data is described as a sample of the whole population, and there are no  inferences made from the sample to the whole population, unlike Inferential Statistics, in which we model the data on the basis of probability theory.\n",
    "\n",
    "In this notebook, we will be focussing on three key elements of Descriptive Statistics :\n",
    "<br/>\n",
    "- Measures Of Central Tendency\n",
    "    - Mean\n",
    "    - Median\n",
    "    - Mode\n",
    "<br/><br/>\n",
    "\n",
    "- Measures Of Spread\n",
    "    - Range\n",
    "    - Outliers\n",
    "    - Interquantile Range\n",
    "    - Variance\n",
    "<br/><br/>\n",
    "\n",
    "- Dependence\n",
    "    - Correlation v/s Causation"
   ]
  },
  {
   "cell_type": "markdown",
   "metadata": {
    "slideshow": {
     "slide_type": "slide"
    }
   },
   "source": [
    "## What Are We Going To Learn Today ?\n",
    "***\n",
    "- **Dataset for use**\n",
    "    - **house-price prediction** dataset\n",
    "    - `.shape()` of data\n",
    "    - Loading `SalePrice` column\n",
    "- **Mean**\n",
    "    - What would be the Central Value ?  - MEAN\n",
    "    - Mean - Mathematical Repesentation\n",
    "    - Mean `SalePrice`\n",
    "    - Disadvantage of Mean\n",
    "- **Median**\n",
    "    - Median - Odd Number of Observations\n",
    "    - Median - Even Number of Observations\n",
    "- **Median and Inter-Quartile Range (IQR)**\n",
    "    - IQR - Intuition\n",
    "    - IQR\n",
    "    - IQR - A boxplot view\n",
    "- **Outliers**\n",
    "    - Outliers - IQR way\n",
    "    - Outlier,mean,median\n",
    "    - Box & whisker diagram for SalePrice\n",
    "    - Outliers Found !\n",
    "- **What we didn't look into ! - Skewness**\n",
    "    - Plot histogram of data\n",
    "    - Analysing histogram\n",
    "- **Mode**\n",
    "- **Plotting the Mean, Median & Mode for SalePrice column**\n",
    "    - When is the mean the best measure of central tendency?\n",
    "    - When is mode the best measure of central tendency?\n",
    "        - What is nominal data ?\n",
    "    - When is the median the best measure of central tendency?\n",
    "    - What is the most appropriate measure of central tendency when the data has outliers?\n",
    "- **Spread of the data**\n",
    "    - Mean squared distance from the mean\n",
    "    - Variance \n",
    "    - Standard Deviation\n",
    "- **Correlation**\n",
    "    - Calculating Correlation Coefficient\n",
    "    - Correltion Explained\n",
    "    - Interpretation\n",
    "    - Correlation is not equal to Causation"
   ]
  },
  {
   "cell_type": "markdown",
   "metadata": {
    "slideshow": {
     "slide_type": "slide"
    }
   },
   "source": [
    "## Dataset \n",
    "***\n",
    "First things first, we will be using the **housing-price prediction** dataset named **\"train.csv\"** in this notebook, to work on with.\n",
    "<br/><br/>\n",
    "\n",
    "So let's start by loading the data ! "
   ]
  },
  {
   "cell_type": "code",
   "execution_count": 3,
   "metadata": {},
   "outputs": [
    {
     "data": {
      "text/html": [
       "<div>\n",
       "<style scoped>\n",
       "    .dataframe tbody tr th:only-of-type {\n",
       "        vertical-align: middle;\n",
       "    }\n",
       "\n",
       "    .dataframe tbody tr th {\n",
       "        vertical-align: top;\n",
       "    }\n",
       "\n",
       "    .dataframe thead th {\n",
       "        text-align: right;\n",
       "    }\n",
       "</style>\n",
       "<table border=\"1\" class=\"dataframe\">\n",
       "  <thead>\n",
       "    <tr style=\"text-align: right;\">\n",
       "      <th></th>\n",
       "      <th>Id</th>\n",
       "      <th>MSSubClass</th>\n",
       "      <th>MSZoning</th>\n",
       "      <th>LotFrontage</th>\n",
       "      <th>LotArea</th>\n",
       "      <th>Street</th>\n",
       "      <th>Alley</th>\n",
       "      <th>LotShape</th>\n",
       "      <th>LandContour</th>\n",
       "      <th>Utilities</th>\n",
       "      <th>...</th>\n",
       "      <th>PoolArea</th>\n",
       "      <th>PoolQC</th>\n",
       "      <th>Fence</th>\n",
       "      <th>MiscFeature</th>\n",
       "      <th>MiscVal</th>\n",
       "      <th>MoSold</th>\n",
       "      <th>YrSold</th>\n",
       "      <th>SaleType</th>\n",
       "      <th>SaleCondition</th>\n",
       "      <th>SalePrice</th>\n",
       "    </tr>\n",
       "  </thead>\n",
       "  <tbody>\n",
       "    <tr>\n",
       "      <th>0</th>\n",
       "      <td>1</td>\n",
       "      <td>60</td>\n",
       "      <td>RL</td>\n",
       "      <td>65.0</td>\n",
       "      <td>8450</td>\n",
       "      <td>Pave</td>\n",
       "      <td>NaN</td>\n",
       "      <td>Reg</td>\n",
       "      <td>Lvl</td>\n",
       "      <td>AllPub</td>\n",
       "      <td>...</td>\n",
       "      <td>0</td>\n",
       "      <td>NaN</td>\n",
       "      <td>NaN</td>\n",
       "      <td>NaN</td>\n",
       "      <td>0</td>\n",
       "      <td>2</td>\n",
       "      <td>2008</td>\n",
       "      <td>WD</td>\n",
       "      <td>Normal</td>\n",
       "      <td>208500</td>\n",
       "    </tr>\n",
       "    <tr>\n",
       "      <th>1</th>\n",
       "      <td>2</td>\n",
       "      <td>20</td>\n",
       "      <td>RL</td>\n",
       "      <td>80.0</td>\n",
       "      <td>9600</td>\n",
       "      <td>Pave</td>\n",
       "      <td>NaN</td>\n",
       "      <td>Reg</td>\n",
       "      <td>Lvl</td>\n",
       "      <td>AllPub</td>\n",
       "      <td>...</td>\n",
       "      <td>0</td>\n",
       "      <td>NaN</td>\n",
       "      <td>NaN</td>\n",
       "      <td>NaN</td>\n",
       "      <td>0</td>\n",
       "      <td>5</td>\n",
       "      <td>2007</td>\n",
       "      <td>WD</td>\n",
       "      <td>Normal</td>\n",
       "      <td>181500</td>\n",
       "    </tr>\n",
       "    <tr>\n",
       "      <th>2</th>\n",
       "      <td>3</td>\n",
       "      <td>60</td>\n",
       "      <td>RL</td>\n",
       "      <td>68.0</td>\n",
       "      <td>11250</td>\n",
       "      <td>Pave</td>\n",
       "      <td>NaN</td>\n",
       "      <td>IR1</td>\n",
       "      <td>Lvl</td>\n",
       "      <td>AllPub</td>\n",
       "      <td>...</td>\n",
       "      <td>0</td>\n",
       "      <td>NaN</td>\n",
       "      <td>NaN</td>\n",
       "      <td>NaN</td>\n",
       "      <td>0</td>\n",
       "      <td>9</td>\n",
       "      <td>2008</td>\n",
       "      <td>WD</td>\n",
       "      <td>Normal</td>\n",
       "      <td>223500</td>\n",
       "    </tr>\n",
       "    <tr>\n",
       "      <th>3</th>\n",
       "      <td>4</td>\n",
       "      <td>70</td>\n",
       "      <td>RL</td>\n",
       "      <td>60.0</td>\n",
       "      <td>9550</td>\n",
       "      <td>Pave</td>\n",
       "      <td>NaN</td>\n",
       "      <td>IR1</td>\n",
       "      <td>Lvl</td>\n",
       "      <td>AllPub</td>\n",
       "      <td>...</td>\n",
       "      <td>0</td>\n",
       "      <td>NaN</td>\n",
       "      <td>NaN</td>\n",
       "      <td>NaN</td>\n",
       "      <td>0</td>\n",
       "      <td>2</td>\n",
       "      <td>2006</td>\n",
       "      <td>WD</td>\n",
       "      <td>Abnorml</td>\n",
       "      <td>140000</td>\n",
       "    </tr>\n",
       "    <tr>\n",
       "      <th>4</th>\n",
       "      <td>5</td>\n",
       "      <td>60</td>\n",
       "      <td>RL</td>\n",
       "      <td>84.0</td>\n",
       "      <td>14260</td>\n",
       "      <td>Pave</td>\n",
       "      <td>NaN</td>\n",
       "      <td>IR1</td>\n",
       "      <td>Lvl</td>\n",
       "      <td>AllPub</td>\n",
       "      <td>...</td>\n",
       "      <td>0</td>\n",
       "      <td>NaN</td>\n",
       "      <td>NaN</td>\n",
       "      <td>NaN</td>\n",
       "      <td>0</td>\n",
       "      <td>12</td>\n",
       "      <td>2008</td>\n",
       "      <td>WD</td>\n",
       "      <td>Normal</td>\n",
       "      <td>250000</td>\n",
       "    </tr>\n",
       "  </tbody>\n",
       "</table>\n",
       "<p>5 rows × 81 columns</p>\n",
       "</div>"
      ],
      "text/plain": [
       "   Id  MSSubClass MSZoning  LotFrontage  LotArea Street Alley LotShape  \\\n",
       "0   1          60       RL         65.0     8450   Pave   NaN      Reg   \n",
       "1   2          20       RL         80.0     9600   Pave   NaN      Reg   \n",
       "2   3          60       RL         68.0    11250   Pave   NaN      IR1   \n",
       "3   4          70       RL         60.0     9550   Pave   NaN      IR1   \n",
       "4   5          60       RL         84.0    14260   Pave   NaN      IR1   \n",
       "\n",
       "  LandContour Utilities  ... PoolArea PoolQC Fence MiscFeature MiscVal MoSold  \\\n",
       "0         Lvl    AllPub  ...        0    NaN   NaN         NaN       0      2   \n",
       "1         Lvl    AllPub  ...        0    NaN   NaN         NaN       0      5   \n",
       "2         Lvl    AllPub  ...        0    NaN   NaN         NaN       0      9   \n",
       "3         Lvl    AllPub  ...        0    NaN   NaN         NaN       0      2   \n",
       "4         Lvl    AllPub  ...        0    NaN   NaN         NaN       0     12   \n",
       "\n",
       "  YrSold  SaleType  SaleCondition  SalePrice  \n",
       "0   2008        WD         Normal     208500  \n",
       "1   2007        WD         Normal     181500  \n",
       "2   2008        WD         Normal     223500  \n",
       "3   2006        WD        Abnorml     140000  \n",
       "4   2008        WD         Normal     250000  \n",
       "\n",
       "[5 rows x 81 columns]"
      ]
     },
     "execution_count": 3,
     "metadata": {},
     "output_type": "execute_result"
    }
   ],
   "source": [
    "import pandas as pd \n",
    "data = pd.read_csv(\"../data/train.csv\") # read.csv() is used for rendering a csv in Pandas\n",
    "\n",
    "data.head()                             # Recollect .head() returns top 5 rows."
   ]
  },
  {
   "cell_type": "markdown",
   "metadata": {
    "slideshow": {
     "slide_type": "-"
    }
   },
   "source": [
    "### **`.shape()`** of the data\n",
    "***\n",
    "\n",
    "So above is what our data looks like. Let's check out the shape of the dataset."
   ]
  },
  {
   "cell_type": "code",
   "execution_count": 4,
   "metadata": {},
   "outputs": [
    {
     "name": "stdout",
     "output_type": "stream",
     "text": [
      "(1460, 81)\n"
     ]
    }
   ],
   "source": [
    "print(data.shape)"
   ]
  },
  {
   "cell_type": "markdown",
   "metadata": {},
   "source": [
    "<br/><br/>\n",
    "That is 1460 rows/observations and 81 columns/features."
   ]
  },
  {
   "cell_type": "markdown",
   "metadata": {
    "slideshow": {
     "slide_type": "slide"
    }
   },
   "source": [
    "## Loading the `SalePrice` column\n",
    "***\n",
    "\n",
    "The last column  **SalePrice**  which is also the predictor for this dataset is what we are interested in. Let's start by loading the first 15 values of this column."
   ]
  },
  {
   "cell_type": "code",
   "execution_count": 5,
   "metadata": {
    "slideshow": {
     "slide_type": "slide"
    }
   },
   "outputs": [
    {
     "data": {
      "text/plain": [
       "0     208500\n",
       "1     181500\n",
       "2     223500\n",
       "3     140000\n",
       "4     250000\n",
       "5     143000\n",
       "6     307000\n",
       "7     200000\n",
       "8     129900\n",
       "9     118000\n",
       "10    129500\n",
       "11    345000\n",
       "12    144000\n",
       "13    279500\n",
       "14    157000\n",
       "Name: SalePrice, dtype: int64"
      ]
     },
     "execution_count": 5,
     "metadata": {},
     "output_type": "execute_result"
    }
   ],
   "source": [
    "Sales_price = pd.Series(data['SalePrice'])\n",
    "Sales_price.head(15)"
   ]
  },
  {
   "cell_type": "markdown",
   "metadata": {
    "slideshow": {
     "slide_type": "slide"
    }
   },
   "source": [
    "## What does it show ?\n",
    "***\n",
    "- If you look at the values, they are spread all over.\n",
    "- Some houses are ~120,000 dollars and some are over ~200,000 \n",
    "- AND THIS IS JUST IN 15 OBSERVATIONS OF THE DATA"
   ]
  },
  {
   "cell_type": "markdown",
   "metadata": {
    "slideshow": {
     "slide_type": "subslide"
    }
   },
   "source": [
    "## What would be the Central Value ?  - MEAN\n",
    "***\n",
    "- It would be a good thing to find out the value around which all the prices are centered. \n",
    "- **Arithmetic Mean** also known as **Average** or just **Mean**, would give us a value central to all the observations and is calculated as :\n",
    "\n",
    "        Mean = Sum of all Observations / No. of Observations\n",
    "        \n"
   ]
  },
  {
   "cell_type": "markdown",
   "metadata": {},
   "source": [
    "<img src=\"../images/Concept-Alert.png\" alt=\"Concept-Alert\" style=\"width: 100px;float:left; margin-right:15px\"/>\n",
    "<br /> \n",
    "\n",
    "## Mean - Mathematical Representation\n",
    "***\n",
    "Mathematically, mean can be applied on a large scale to almost any number of observations one wants to consider and is represented as: \n",
    "                $$ \\bar{x} = \\frac{1}{N}\\sum_{i=1}^{N}x_i $$"
   ]
  },
  {
   "cell_type": "markdown",
   "metadata": {},
   "source": [
    "Where,\n",
    "\n",
    "-       N = Total number of observations\n",
    "-       x_i = 'i'th observation (for i= 1,.....,N)\n",
    "\n",
    "The advantage of mean is that it takes every value into account, easy to calculate and further analysis calculation can be done easily as it is a unique value of the dataset."
   ]
  },
  {
   "cell_type": "markdown",
   "metadata": {},
   "source": [
    "## Mean `SalePrice`\n",
    "***\n",
    "\n",
    "Let's find out the mean for the **SalePrice** column "
   ]
  },
  {
   "cell_type": "code",
   "execution_count": 6,
   "metadata": {},
   "outputs": [
    {
     "name": "stdout",
     "output_type": "stream",
     "text": [
      "180921.19589041095\n"
     ]
    }
   ],
   "source": [
    "import numpy as np\n",
    "mean = np.mean(Sales_price)\n",
    "print(mean)"
   ]
  },
  {
   "cell_type": "markdown",
   "metadata": {
    "slideshow": {
     "slide_type": "subslide"
    }
   },
   "source": [
    "- There we go. Our mean is around 180,922 dollars!\n",
    "- Now we atleast get a fair idea of what to expect.\n",
    "- But is the mean a value we can fairly latch on to ?"
   ]
  },
  {
   "cell_type": "markdown",
   "metadata": {
    "slideshow": {
     "slide_type": "slide"
    }
   },
   "source": [
    "## Disadvantage of Mean\n",
    "***\n",
    "\n",
    "- Finding mean is not a good approach as the **'Mean is often affected by Outliers'** or in simple words if there are some observations larger or smaller than majority of the other observations then the mean tends to deviate towards these values.\n",
    "<br/><br/>\n",
    "- To generalize it if the distribution of datasets is skewed(troubled by outliers), we do not choose mean. Here we will have to go for **Median**."
   ]
  },
  {
   "cell_type": "markdown",
   "metadata": {
    "slideshow": {
     "slide_type": "subslide"
    }
   },
   "source": [
    "<img src=\"../images/Concept-Alert.png\" alt=\"Concept-Alert\" style=\"width: 100px;float:left; margin-right:15px\"/>\n",
    "<br /> \n",
    "\n",
    "## Median\n",
    "***\n",
    "\n",
    "- The **Median** is the nothing but the middle value when all values are arranged in Ascending Order!\n",
    "<br/><br/>\n",
    "- **It is the value above which lies the upper half of the data and below which lies the lower half. In other words, it is the middle value of a data set.**\n",
    "\n",
    " "
   ]
  },
  {
   "cell_type": "markdown",
   "metadata": {},
   "source": [
    "\n",
    "\n",
    "## Median - Odd Number of Observations\n",
    "***\n",
    "\n",
    "- If number of values is ODD – then the median is given as:\n",
    "     - Median = (N+1)/2 th position element.\n",
    "<br/><br/>\n",
    "- Let's understand this with an example\n",
    "- Example – Find the median of the values – 110, 90, 40, 50, 125, 65, 100 \n",
    "     - Arranging values in ascending order – 40, 50, 65, 90, 100, 110, 125\n",
    "     - Here N = 7 (Odd), Median = (7+1)/2 = 4th position element = 90\n",
    "\n",
    " "
   ]
  },
  {
   "cell_type": "markdown",
   "metadata": {},
   "source": [
    "\n",
    "\n",
    "## Median - Even Number of Observations\n",
    "***\n",
    "- If number of values is EVEN then median will be *average* of  **(N/2)th and ((N/2) +1)th** element\n",
    "<br/><br/>\n",
    "- Example – Find the median of the values –10, 15, 20, 23, 24, 25, 25, 27, 30, 32, 40, 45\n",
    "    - Here N = 12 (Even), Median = Avg of 12/2  = 6th and (12/2)+1 = 7th element =  (25 + 25)/2 = 25.\n",
    "    - Note that the values are already arranged in Ascending Order"
   ]
  },
  {
   "cell_type": "markdown",
   "metadata": {
    "slideshow": {
     "slide_type": "slide"
    }
   },
   "source": [
    "<img src=\"../images/Concept-Alert.png\" alt=\"Concept-Alert\" style=\"width: 100px;float:left; margin-right:15px\"/>\n",
    "<br /> \n",
    "\n",
    "## Median and Inter-Quartile Range (IQR)\n",
    "***\n",
    "- Taking the concept of median a step further, we can define the Inter - Quartile Range.\n",
    "- IQR is a measure of variability and is based on dividing a data set into quartiles.\n",
    "- Quartile is the division of a set of observations into four intervals based on the values of the data.\n"
   ]
  },
  {
   "cell_type": "markdown",
   "metadata": {},
   "source": [
    "<img src=\"../images/Concept-Alert.png\" alt=\"Concept-Alert\" style=\"width: 100px;float:left; margin-right:15px\"/>\n",
    "<br /> \n",
    "\n",
    "## Inter-Quartile Range - Intuition \n",
    "***\n",
    "![](../images/iqr.gif) \n",
    "Image Source : http://resizeandsave.online/dappy-January_21_6.html\n",
    "\n"
   ]
  },
  {
   "cell_type": "markdown",
   "metadata": {
    "slideshow": {
     "slide_type": "subslide"
    }
   },
   "source": [
    "<img src=\"../images/Concept-Alert.png\" alt=\"Concept-Alert\" style=\"width: 100px;float:left; margin-right:15px\"/>\n",
    "<br /> \n",
    "\n",
    "## Inter-Quartile Range\n",
    "***\n",
    "\n",
    "- Basically from the image above: Quartiles divide a rank-ordered data set into four equal parts. The values that divide each part are called the first, second, and third quartiles where\n",
    "- Q1 is the \"middle\" value in the first half of the rank-ordered data set. Also called lower-quartile\n",
    "- Q2 is the median value in the set.\n",
    "- Q3 is the \"middle\" value in the second half of the rank-ordered data set. Also called upper-quartile\n",
    "<br/><br/>\n",
    "\n",
    "- The Inter-Quartile Range is the difference between the upper and lower quartiles:\n",
    "    - Interquartile Range, IQR = Q3 - Q1 (it is the central 50% of data)\n",
    "    - Where: \n",
    "        - Q1 = Median of First half of observations arranged in Ascending Order \n",
    "        - Q3 = Median of 2nd Half of observations arranged in Ascending Order"
   ]
  },
  {
   "cell_type": "markdown",
   "metadata": {
    "slideshow": {
     "slide_type": "slide"
    }
   },
   "source": [
    "## Inter-Quartile Range - A Boxplot view\n",
    "***\n",
    "The figure below is known as a *Boxplot* or *Box & Whisker Diagram* and depending on our data, it also looks like this: \n",
    "***\n",
    "![](../images/boxplot.png)<br/>\n",
    "Image Source : Slide 18/31 on https://slideplayer.com/slide/5257962/"
   ]
  },
  {
   "cell_type": "markdown",
   "metadata": {
    "slideshow": {
     "slide_type": "slide"
    }
   },
   "source": [
    "<img src=\"../images/Concept-Alert.png\" alt=\"Concept-Alert\" style=\"width: 100px;float:left; margin-right:15px\"/>\n",
    "<br /> \n",
    "\n",
    "## Outliers \n",
    "***\n",
    "\n",
    "- The Boxplot above shows some additional observations below MINIMUM and above MAXIMUM. These are **Outliers**.\n",
    "- There are many ways to mathematically represent or define outliers. One such method is using IQR.\n"
   ]
  },
  {
   "cell_type": "markdown",
   "metadata": {
    "slideshow": {
     "slide_type": "slide"
    }
   },
   "source": [
    "<img src=\"../images/Concept-Alert.png\" alt=\"Concept-Alert\" style=\"width: 100px;float:left; margin-right:15px\"/>\n",
    "<br /> \n",
    "\n",
    "## Outliers - The IQR way\n",
    "***\n",
    "\n",
    "- If a data point is 1.5xIQR below the first quartile (Q1) or 1.5xIQR above the third quartile (Q3) then it is an outlier.\n",
    "\n",
    "- These shown as Black Dots in the boxplot above\n",
    "<br/><br/>\n",
    "- **\"*Outliers*\" have an effect on the Mean!** \n",
    "\n",
    "- Let's try and visually understand what this means\n"
   ]
  },
  {
   "cell_type": "markdown",
   "metadata": {
    "slideshow": {
     "slide_type": "slide"
    }
   },
   "source": [
    "<img src=\"../images/Concept-Alert.png\" alt=\"Concept-Alert\" style=\"width: 100px;float:left; margin-right:15px\"/>\n",
    "<br /> \n",
    "\n",
    "## Outliers, Mean and Median\n",
    "***\n",
    "Let's consider some scores of Pre-school children in their Reflexes Test\n",
    "***\n",
    "![](../images/outliers.png)<br/>\n",
    "Image Source : https://www.hackerearth.com/blog/machine-learning/descriptive-statistics-python-numpy/"
   ]
  },
  {
   "cell_type": "markdown",
   "metadata": {
    "slideshow": {
     "slide_type": "slide"
    }
   },
   "source": [
    "## Outliers, Mean and Median\n",
    "***\n",
    "- We see that the mean is affected by these \"outliers\" and does not give a good estimate of all the values\n",
    "- The first two students from the **right** are outliers since their score is quite far from that of the majority of the class.\n",
    "- Even though 8 out of 10 students scored below 6, the mean is **6**!\n",
    "- In this case, taking the median is a much better Estimate as **3.25** represents a good estimate of how the class performed as a whole! "
   ]
  },
  {
   "cell_type": "markdown",
   "metadata": {},
   "source": [
    "<br/><br/>\n",
    "Let's code and find out what the median and IQR for our **SalePrice** column is"
   ]
  },
  {
   "cell_type": "code",
   "execution_count": 7,
   "metadata": {
    "slideshow": {
     "slide_type": "subslide"
    }
   },
   "outputs": [
    {
     "name": "stdout",
     "output_type": "stream",
     "text": [
      "163000.0\n",
      "Q1: 129975.0\n",
      "Q3: 214000.0\n",
      "IQR: 84025.0\n"
     ]
    }
   ],
   "source": [
    "import numpy as np\n",
    "median = np.median(Sales_price)\n",
    "print(median)\n",
    "\n",
    "q1 = Sales_price.quantile(0.25) # lower quartile  } Note: The fuction is .quantile() with 'n'\n",
    "q3 = Sales_price.quantile(0.75) # upper quartile  }       not .quartile() with 'r'\n",
    "print(\"Q1:\", q1)\n",
    "print(\"Q3:\", q3)\n",
    "print(\"IQR:\", q3 - q1)"
   ]
  },
  {
   "cell_type": "markdown",
   "metadata": {
    "slideshow": {
     "slide_type": "slide"
    }
   },
   "source": [
    "\n",
    "**Mean** = 180921.19589041095\n",
    "<br/><br/>\n",
    "**Median** = 163000.0\n",
    "<br/><br/>\n",
    "That is almost a difference of around 20000. This set of observations is definitely skewed. We'll find out what that means in a while.\n"
   ]
  },
  {
   "cell_type": "markdown",
   "metadata": {
    "slideshow": {
     "slide_type": "slide"
    }
   },
   "source": [
    "<img src=\"../images/Technical-Stuff.png\" alt=\"Concept-Alert\" style=\"width: 100px;float:left; margin-right:15px\"/>\n",
    "<br /> \n",
    "\n",
    "## Box & Whisker Diagram for SalePrice\n",
    "***\n",
    "\n",
    "Let's do a boxplot for our predictor that is **SalePrice** and get a sense of the outliers if any"
   ]
  },
  {
   "cell_type": "code",
   "execution_count": 8,
   "metadata": {
    "slideshow": {
     "slide_type": "subslide"
    }
   },
   "outputs": [
    {
     "data": {
      "image/png": "[encoded data removed]",
      "text/plain": [
       "<Figure size 432x288 with 1 Axes>"
      ]
     },
     "metadata": {
      "needs_background": "light"
     },
     "output_type": "display_data"
    }
   ],
   "source": [
    "import matplotlib.pyplot as plt\n",
    "%matplotlib inline\n",
    "\n",
    "plt.boxplot(Sales_price)\n",
    "plt.show()"
   ]
  },
  {
   "cell_type": "markdown",
   "metadata": {
    "slideshow": {
     "slide_type": "slide"
    }
   },
   "source": [
    "## Outliers Found !\n",
    "***\n",
    " - Woah ! there are quite a few outliers. \n",
    " - Let's code and find out how many ?"
   ]
  },
  {
   "cell_type": "code",
   "execution_count": 9,
   "metadata": {
    "slideshow": {
     "slide_type": "subslide"
    }
   },
   "outputs": [
    {
     "name": "stdout",
     "output_type": "stream",
     "text": [
      "3937.5\n",
      "340037.5\n"
     ]
    }
   ],
   "source": [
    "## Enter Code to find no. of outliers\n",
    "\n",
    "outlier_lower_limit = q1 - 1.5*(q3 - q1)\n",
    "outlier_upper_limit = q3 + 1.5*(q3 - q1)\n",
    "print(outlier_lower_limit)\n",
    "print(outlier_upper_limit)"
   ]
  },
  {
   "cell_type": "code",
   "execution_count": 10,
   "metadata": {
    "slideshow": {
     "slide_type": "fragment"
    }
   },
   "outputs": [
    {
     "name": "stdout",
     "output_type": "stream",
     "text": [
      "lower_limit_outliers: 0\n",
      "upper_limit_outliers: 61\n",
      "total outliers: 61\n"
     ]
    }
   ],
   "source": [
    "lower_limit_outliers = Sales_price[Sales_price < outlier_lower_limit].count()\n",
    "upper_limit_outliers = Sales_price[Sales_price > outlier_upper_limit].count()\n",
    "print(\"lower_limit_outliers:\", lower_limit_outliers)\n",
    "print(\"upper_limit_outliers:\", upper_limit_outliers)\n",
    "print(\"total outliers:\", upper_limit_outliers + lower_limit_outliers)"
   ]
  },
  {
   "cell_type": "markdown",
   "metadata": {
    "slideshow": {
     "slide_type": "slide"
    }
   },
   "source": [
    "<img src=\"../images/Concept-Alert.png\" alt=\"Concept-Alert\" style=\"width: 100px;float:left; margin-right:15px\"/>\n",
    "<br /> \n",
    "\n",
    "## What we didn't look into ! - Skewness\n",
    "***\n",
    " - Although the Box & Whisker plot is a good method to get an intution on the number of outliers; another good way to find out if we need to consider the median is by checking the: Skewness in distribution.\n",
    " - We know that the Median is **more robust** to outliers than the mean, thus giving us a better estimate of the \"*Central Tendency*\" of our dataset!\n",
    " - But what is Skewness? \n",
    " - Let's build our intuition"
   ]
  },
  {
   "cell_type": "markdown",
   "metadata": {
    "slideshow": {
     "slide_type": "slide"
    }
   },
   "source": [
    "<img src=\"../images/Concept-Alert.png\" alt=\"Concept-Alert\" style=\"width: 100px;float:left; margin-right:15px\"/>\n",
    "<br /> \n",
    "\n",
    "## Plot a Histogram of the data\n",
    "***\n",
    " - Let's plot a histogram, which is nothing but a Frequency Plot of the no. of times the values in our particular data are observed!\n",
    " - These values are arranged in \"bins\"\n",
    " - Each \"bin\" is a range of values and their height (or y-values) determine **The number of times values in THAT range appear in our dataset!** \n",
    " - Let's code and have a look at the Histogram of our predictor"
   ]
  },
  {
   "cell_type": "code",
   "execution_count": 27,
   "metadata": {
    "scrolled": true,
    "slideshow": {
     "slide_type": "subslide"
    }
   },
   "outputs": [
    {
     "data": {
      "image/png": "[encoded data removed]",
      "text/plain": [
       "<Figure size 432x288 with 1 Axes>"
      ]
     },
     "metadata": {
      "needs_background": "light"
     },
     "output_type": "display_data"
    }
   ],
   "source": [
    "plt.hist(Sales_price, bins=60)\n",
    "plt.show()"
   ]
  },
  {
   "cell_type": "markdown",
   "metadata": {
    "slideshow": {
     "slide_type": "slide"
    }
   },
   "source": [
    "## Analyzing the Histogram\n",
    "***\n",
    " - By just looking, we can tell that the Histogram is not peaked around the center of ranges\n",
    " - The *peak* is towards the **left** of the plot, as the rightmost figure below. \n",
    " \n",
    " ***\n",
    "![](../images/skewness.jpg)<br/>\n",
    "Image Source : http://worldunseen.club/positively-skewed-distribution-math/positively-skewed-distribution-math-a-comparison-of-the-mean-median-and-mode-math-terminology-normal-distribution-math-solver-with-steps/"
   ]
  },
  {
   "cell_type": "markdown",
   "metadata": {
    "slideshow": {
     "slide_type": "slide"
    }
   },
   "source": [
    "## Analyzing the Histogram\n",
    "***\n",
    "- Thus, we see that our Histogram is \"*Positively Skewed*\"\n",
    "\n",
    "- We can see different examples of Skewness from the image on the previous slide and see how Mean, and the Median are affected in each distribution"
   ]
  },
  {
   "cell_type": "markdown",
   "metadata": {
    "slideshow": {
     "slide_type": "slide"
    }
   },
   "source": [
    "<img src=\"../images/Concept-Alert.png\" alt=\"Concept-Alert\" style=\"width: 100px;float:left; margin-right:15px\"/>\n",
    "<br /> \n",
    "\n",
    "## Mode\n",
    "***\n",
    " - Simply put:  Mode is the most frequently occurring data point in the given data set. \n",
    " - We arrange the data in increasing order before finding the mode\n",
    " - Example The following is an ordered array of the values from below\n",
    "\n",
    "7.00 11.00 14.25 15.00 15.00 15.50 19.00 19.00 19.00 19.00 21.00 22.00 23.00 24.00 25.00 27.00 27.00 28.00 34.22 43.25\n",
    "    \n",
    " - This grouping makes it easier to see that 19.00 is the most frequently occurring number. In the case of a tie for the most frequently occurring value,two modes are listed.Then the data are said to be bimodal."
   ]
  },
  {
   "cell_type": "code",
   "execution_count": 32,
   "metadata": {
    "slideshow": {
     "slide_type": "fragment"
    }
   },
   "outputs": [
    {
     "name": "stdout",
     "output_type": "stream",
     "text": [
      "140000\n"
     ]
    }
   ],
   "source": [
    "mode = Sales_price.mode()\n",
    "print(mode[0])"
   ]
  },
  {
   "cell_type": "markdown",
   "metadata": {},
   "source": [
    "<img src=\"../images/Technical-Stuff.png\" alt=\"Concept-Alert\" style=\"width: 100px;float:left; margin-right:15px\"/>\n",
    "<br /> \n",
    "\n",
    "## Plotting the Mean, Median & Mode for SalePrice column\n",
    "***\n"
   ]
  },
  {
   "cell_type": "code",
   "execution_count": 43,
   "metadata": {},
   "outputs": [
    {
     "data": {
      "image/png": "[encoded data removed]",
      "text/plain": [
       "<Figure size 720x432 with 1 Axes>"
      ]
     },
     "metadata": {
      "needs_background": "light"
     },
     "output_type": "display_data"
    }
   ],
   "source": [
    "## plot the hist with mean median and mode - This needs to be checked! \n",
    "\n",
    "plt.figure(figsize=(10, 6)) \n",
    "plt.hist(Sales_price, bins=40)\n",
    "plt.plot([mode]*300, range(300), label='mode') \n",
    "plt.plot([median]*300, range(300), label='median')\n",
    "plt.plot([mean]*300, range(300), label='mean')\n",
    "plt.ylim(0, 250)\n",
    "plt.legend()\n",
    "plt.show()"
   ]
  },
  {
   "cell_type": "markdown",
   "metadata": {
    "slideshow": {
     "slide_type": "subslide"
    }
   },
   "source": [
    "## When is the mean the best measure of central tendency?\n",
    "***\n",
    "\n",
    "- The mean is usually the best measure of central tendency to use when your data distribution is continuous and symmetrical, such as when your data is normally distributed. \n",
    "\n",
    "- However, it all depends on what you are trying to show from your data.\n",
    "\n",
    "- You will learn about Normal Distributions in Inferential Statistics "
   ]
  },
  {
   "cell_type": "markdown",
   "metadata": {
    "slideshow": {
     "slide_type": "subslide"
    }
   },
   "source": [
    "## When is the mode the best measure of central tendency?\n",
    "***\n",
    "\n",
    "- The mode is the least used of the measures of central tendency \n",
    "\n",
    "- The mode will be the best measure of central tendency (as it is the only one appropriate to use) when dealing with nominal data. \n",
    "\n",
    "- The mean and/or median are usually preferred when dealing with all other types of data, but this does not mean it is never used with these data types"
   ]
  },
  {
   "cell_type": "markdown",
   "metadata": {
    "slideshow": {
     "slide_type": "subslide"
    }
   },
   "source": [
    "### What is nominal data?\n",
    "***\n",
    "\n",
    "- Nominal variables are categorical variables that have two or more categories, but which do not have an intrinsic order. \n",
    "\n",
    "- For example\n",
    "    - a real estate agent could classify their types of property into distinct categories such as houses, condos, co-ops or bungalows. So \"type of property\" is a nominal variable with 4 categories called houses, condos, co-ops and bungalows.\n",
    "\n",
    "- Of note, the different categories of a nominal variable can also be referred to as groups or levels of the nominal variable.         "
   ]
  },
  {
   "cell_type": "markdown",
   "metadata": {
    "slideshow": {
     "slide_type": "subslide"
    }
   },
   "source": [
    "## When is the median the best measure of central tendency?\n",
    "\n",
    "- The median is usually preferred to other measures of central tendency when your data set is skewed (i.e., forms a skewed distribution) or you are dealing with ordinal data. \n",
    "\n",
    "- We already know what skewed data is! \n",
    "\n",
    "\n",
    "- However, the mode can also be appropriate in these situations, but **IS NOT** as commonly used as the median."
   ]
  },
  {
   "cell_type": "markdown",
   "metadata": {
    "slideshow": {
     "slide_type": "subslide"
    }
   },
   "source": [
    "## What is the most appropriate measure of central tendency when the data has outliers?\n",
    "\n",
    "- The median is usually preferred in these situations because the value of the mean can be distorted by the outliers. \n",
    "\n",
    "- However, it will depend on how influential the outliers are. If they do not significantly distort the mean, using the mean as the measure of central tendency will usually be preferred."
   ]
  },
  {
   "cell_type": "markdown",
   "metadata": {
    "slideshow": {
     "slide_type": "subslide"
    }
   },
   "source": [
    "### In a normally distributed data set, which is greatest: mode, median or mean?\n",
    "\n",
    "- If the data set is perfectly normal, the mean, median and mean are equal to each other (i.e., the same value).\n",
    "\n",
    "### For any data set, which measures of central tendency have only one value?\n",
    "\n",
    "- The median and mean can only have one value for a given data set. The mode can have more than one value"
   ]
  },
  {
   "cell_type": "markdown",
   "metadata": {
    "slideshow": {
     "slide_type": "slide"
    }
   },
   "source": [
    "<img src=\"../images/Technical-Stuff.png\" alt=\"Concept-Alert\" style=\"width: 100px;float:left; margin-right:15px\"/>\n",
    "<br /> \n",
    "\n",
    "## Spread of the data\n",
    "***\n",
    " - Let's choose the value 250,000 from the SalePrice column and check how far this value is from the mean when compared to other points in the data set\n",
    " - We measure this as follows:\n",
    "             (250,000 - mean)/Random Variation\n",
    " - We know the mean, we found that before\n",
    " - What is Random Variation? \n",
    "     - It's nothing but the *Average variation of the data from the mean* \n",
    " - How do we measure this? \n",
    " "
   ]
  },
  {
   "cell_type": "markdown",
   "metadata": {
    "slideshow": {
     "slide_type": "subslide"
    }
   },
   "source": [
    "## To start off \n",
    "***\n",
    "\n",
    " - Range of data is simply:\n",
    "     - Max Value of Data - Min Value of data\n",
    " - Let's check the Range of John's data"
   ]
  },
  {
   "cell_type": "code",
   "execution_count": 14,
   "metadata": {
    "slideshow": {
     "slide_type": "slide"
    }
   },
   "outputs": [
    {
     "data": {
      "text/plain": [
       "720100"
      ]
     },
     "execution_count": 14,
     "metadata": {},
     "output_type": "execute_result"
    }
   ],
   "source": [
    "Range = np.max(Sales_price)-np.min(Sales_price)\n",
    "Range"
   ]
  },
  {
   "cell_type": "markdown",
   "metadata": {
    "slideshow": {
     "slide_type": "slide"
    }
   },
   "source": [
    "<img src=\"../images/Concept-Alert.png\" alt=\"Concept-Alert\" style=\"width: 100px;float:left; margin-right:15px\"/>\n",
    "<br /> \n",
    "\n",
    "## Mean squared distance from the mean \n",
    "***\n",
    " - Now if we square the differences between mean and every observation and take a sum, we get:\n",
    " - We get  =   \n",
    "   $$ {\\frac{1}{N}\\sum\\limits_{i = 1}^N {\\left( {x_i - \\bar x} \\right)^2 } } $$\n",
    " - THIS IS CALLED THE VARIANCE! \n",
    " - It's the mean squared distance of the observation from the mean"
   ]
  },
  {
   "cell_type": "markdown",
   "metadata": {
    "slideshow": {
     "slide_type": "subslide"
    }
   },
   "source": [
    "<img src=\"../images/Concept-Alert.png\" alt=\"Concept-Alert\" style=\"width: 100px;float:left; margin-right:15px\"/>\n",
    "<br /> \n",
    "\n",
    "## Variance - Formula\n",
    "***\n",
    "- Therefore variance is calculated as: \n",
    "\n",
    " $$ {σ}^2 (Variance) = {\\frac{1}{N}\\sum\\limits_{i = 1}^N {\\left( {x_i - \\bar x} \\right)^2 } } $$\n",
    "\n",
    "- It is denoted by ${σ}^2$"
   ]
  },
  {
   "cell_type": "code",
   "execution_count": 15,
   "metadata": {
    "slideshow": {
     "slide_type": "subslide"
    }
   },
   "outputs": [
    {
     "name": "stdout",
     "output_type": "stream",
     "text": [
      "6311111264.297448\n"
     ]
    }
   ],
   "source": [
    "variance = Sales_price.var()\n",
    "print(variance)"
   ]
  },
  {
   "cell_type": "markdown",
   "metadata": {
    "slideshow": {
     "slide_type": "slide"
    }
   },
   "source": [
    "## Need for Standard Deviation\n",
    "***\n",
    " - In our case, Variance is calculated in terms of ${dollars}^2$\n",
    " - This isn't really practical as the mean of the Prices is expressed in \"dollars\" \n",
    " - Therefore, we can simply square our Variance and obtain"
   ]
  },
  {
   "cell_type": "markdown",
   "metadata": {
    "slideshow": {
     "slide_type": "slide"
    }
   },
   "source": [
    "<img src=\"../images/Concept-Alert.png\" alt=\"Concept-Alert\" style=\"width: 100px;float:left; margin-right:15px\"/>\n",
    "<br /> \n",
    "\n",
    "## Standard Deviation\n",
    "***\n",
    "- It is *squareroot of the mean squared distance from the mean* \n",
    "- It is denoted by σ\n",
    "\n",
    " $$ σ = \\sqrt{\\frac{1}{N}\\sum\\limits_{i = 1}^N {\\left( {x_i - \\bar x} \\right)^2 } } $$\n"
   ]
  },
  {
   "cell_type": "markdown",
   "metadata": {
    "slideshow": {
     "slide_type": "slide"
    }
   },
   "source": [
    "Let's find out the Standard Deviation for our data"
   ]
  },
  {
   "cell_type": "code",
   "execution_count": 16,
   "metadata": {
    "slideshow": {
     "slide_type": "subslide"
    }
   },
   "outputs": [
    {
     "name": "stdout",
     "output_type": "stream",
     "text": [
      "79442.50288288662\n"
     ]
    }
   ],
   "source": [
    "from math import sqrt\n",
    "\n",
    "std = sqrt(variance)\n",
    "print(std)"
   ]
  },
  {
   "cell_type": "markdown",
   "metadata": {
    "slideshow": {
     "slide_type": "slide"
    }
   },
   "source": [
    "## Spread of Data - Back to where we began \n",
    "***\n",
    "- Let's check what John originally set out to check\n",
    "- How far the Price of this house is from the mean when compared to other points in the data set\n",
    "- We want to check this: \n",
    "\n",
    "(250,000 - mean)/Random Variation\n",
    "\n",
    "- The Standard Deviation is a good measure of spread of Random Variation in a given data \n",
    "- Thus we want to check: \n",
    "\n",
    "(250,000 - mean)/Standard Deviation"
   ]
  },
  {
   "cell_type": "code",
   "execution_count": 51,
   "metadata": {
    "slideshow": {
     "slide_type": "fragment"
    }
   },
   "outputs": [
    {
     "data": {
      "text/plain": [
       "0.8695446593799337"
      ]
     },
     "execution_count": 51,
     "metadata": {},
     "output_type": "execute_result"
    }
   ],
   "source": [
    "(250000 - mean)/std\n",
    "# print(mean)"
   ]
  },
  {
   "cell_type": "markdown",
   "metadata": {
    "slideshow": {
     "slide_type": "slide"
    }
   },
   "source": [
    "## Importance of Standard Deviation\n",
    "***\n",
    "- If we know that our data is *Normally Distributed*, we can confidently say that: \n",
    "   - ~68% of the data is within one Std. Dev. from the mean \n",
    "   - ~95% of the data is within 2 Std. Dev. from the mean \n",
    "   - ~99.7% of the data is within 3 Std Dev from the mean \n",
    "    ***\n",
    "![](../images/normal_curve.png)"
   ]
  },
  {
   "cell_type": "markdown",
   "metadata": {
    "slideshow": {
     "slide_type": "slide"
    }
   },
   "source": [
    "<img src=\"../images/Concept-Alert.png\" alt=\"Concept-Alert\" style=\"width: 100px;float:left; margin-right:15px\"/>\n",
    "<br /> \n",
    "\n",
    "## Correlation\n",
    "***\n",
    " - Now what if we want to know how the price is affected by different factors such as the Living Room area, Garage Area, etc which are some of the other columns/features in our dataset.\n",
    " - This is nothing but Correlation! "
   ]
  },
  {
   "cell_type": "markdown",
   "metadata": {
    "slideshow": {
     "slide_type": "subslide"
    }
   },
   "source": [
    "## Calculating the Correlation Coefficient\n",
    "***\n",
    "- A good way to determine this correlation is to use an already existing method known as Pearson Correlation Coefficient \n",
    "- Correlation Coefficient is a measure of **linear reationship** between two variables\n",
    "- It always outputs in the range of [-1,1] \n",
    "- This is a bit complicated but easy when you break it down "
   ]
  },
  {
   "cell_type": "markdown",
   "metadata": {},
   "source": [
    "$$ r = \\frac{N\\sum xy - (\\sum x)(\\sum y)}{\\sqrt {[N\\sum x^2 -(\\sum x)^2][N\\sum y^2 -(\\sum y)^2]}} $$\n",
    "\n",
    "$\n",
    "\\begin{align}\n",
    "Where :  \n",
    "\\end{align}\n",
    "$\n",
    "\n",
    "$\n",
    "\\begin{align}\n",
    "N = Number\\thinspace of\\thinspace pairs\\thinspace of\\thinspace scores \n",
    "\\end{align}\n",
    "$\n",
    "\n",
    "$\n",
    "\\begin{align}\n",
    "\\sum xy = sum\\thinspace of\\thinspace the\\thinspace products\\thinspace of\\thinspace paired\\thinspace scores\\thinspace \n",
    "\\end{align}\n",
    "$\n",
    "\n",
    "$\n",
    "\\begin{align}\n",
    "\\sum x = sum\\thinspace of\\thinspace x\\thinspace scores\\thinspace \n",
    "\\end{align}\n",
    "$\n",
    "\n",
    "$\n",
    "\\begin{align}\n",
    "\\sum y = sum\\thinspace of\\thinspace y\\thinspace scores\\thinspace \n",
    "\\end{align}\n",
    "$\n",
    "\n",
    "$\n",
    "\\begin{align}\n",
    "\\sum x^2 = sum\\thinspace of\\thinspace squared\\thinspace x\\thinspace scores\\thinspace \n",
    "\\end{align}\n",
    "$\n",
    "\n",
    "$\n",
    "\\begin{align}\n",
    "\\sum y^2 = sum\\thinspace of\\thinspace squared\\thinspace y\\thinspace scores\\thinspace \n",
    "\\end{align}\n",
    "$"
   ]
  },
  {
   "cell_type": "markdown",
   "metadata": {
    "slideshow": {
     "slide_type": "slide"
    }
   },
   "source": [
    "## Correlation Explained\n",
    "***\n",
    "- Understanding values: \n",
    "   - 1 indicates a strong positive relationship.\n",
    "   - -1 indicates a strong negative relationship.\n",
    "   - A result of zero indicates a non-linear relationship or no relationship at all.\n",
    "***\n",
    "![](../images/correlation2.png)<br/>\n",
    "Image Source : https://www.statisticshowto.datasciencecentral.com/direction-of-association/\n",
    "\n",
    "   "
   ]
  },
  {
   "cell_type": "markdown",
   "metadata": {
    "slideshow": {
     "slide_type": "slide"
    }
   },
   "source": [
    "## Interpretation \n",
    "***\n",
    " - A correlation coefficient of 1 means that for every positive increase of 1 in one variable, there is a positive increase of 1 in the other.\n",
    " - A correlation coefficient of -1 means that for every positive increase of 1 in one variable, there is a negative decrease of 1 in the other.\n",
    " - Zero means that for every increase, there isn’t a positive or negative increase. The two just aren’t related."
   ]
  },
  {
   "cell_type": "markdown",
   "metadata": {
    "slideshow": {
     "slide_type": "slide"
    }
   },
   "source": [
    "## Let's find out...\n",
    "***\n",
    "- What is the Correlation between the Sales price and the Living Room Area?\n",
    "\n",
    "- Let's find out. This should be easy.\n"
   ]
  },
  {
   "cell_type": "code",
   "execution_count": 57,
   "metadata": {
    "slideshow": {
     "slide_type": "subslide"
    }
   },
   "outputs": [
    {
     "data": {
      "text/plain": [
       "0.7086244776126521"
      ]
     },
     "execution_count": 57,
     "metadata": {},
     "output_type": "execute_result"
    }
   ],
   "source": [
    "living_room_area = data.GrLivArea\n",
    "np.corrcoef(Sales_price, living_room_area)[0,1]  # Returns Pearson product-moment correlation coefficients."
   ]
  },
  {
   "cell_type": "markdown",
   "metadata": {
    "slideshow": {
     "slide_type": "slide"
    }
   },
   "source": [
    "## More on Correlation\n",
    "***\n",
    "The absolute value of the correlation coefficient gives us the relationship strength. The larger the number, the stronger the relationship. For example, |-.75| = .75, which has a stronger relationship than .65.\n",
    "\n",
    "\n",
    " - Also, we can creatively plot \"heatmaps\" in Python to make our plot fancy and see the Correlation trends between Several variables! \n",
    " \n",
    " \n",
    " - This is a very handy trick used by Data Scientists All over the world! \n",
    " \n",
    " - The next slide displays the code where The Correlation trends amongst the \"Lot Area\", Living Room Area, Garage Area and Sales Price of the house are captured! "
   ]
  },
  {
   "cell_type": "code",
   "execution_count": 61,
   "metadata": {
    "slideshow": {
     "slide_type": "slide"
    }
   },
   "outputs": [
    {
     "name": "stdout",
     "output_type": "stream",
     "text": [
      "             LotArea  GrLivArea  GarageArea  SalePrice\n",
      "LotArea     1.000000   0.263116    0.180403   0.263843\n",
      "GrLivArea   0.263116   1.000000    0.468997   0.708624\n",
      "GarageArea  0.180403   0.468997    1.000000   0.623431\n",
      "SalePrice   0.263843   0.708624    0.623431   1.000000\n"
     ]
    },
    {
     "data": {
      "image/png": "[encoded data removed]",
      "text/plain": [
       "<Figure size 432x288 with 2 Axes>"
      ]
     },
     "metadata": {
      "needs_background": "light"
     },
     "output_type": "display_data"
    }
   ],
   "source": [
    "#considering 4 continous variable and finding the correlation\n",
    "import seaborn as sns\n",
    "%matplotlib inline\n",
    "# plt.figure(figsize=(5,4))\n",
    "x = data[['LotArea','GrLivArea','GarageArea','SalePrice']]\n",
    "corr = x.corr()      # Computes pairwise correlation of columns excluding NaNs\n",
    "sns.heatmap(corr)\n",
    "print(corr)"
   ]
  },
  {
   "cell_type": "markdown",
   "metadata": {
    "slideshow": {
     "slide_type": "subslide"
    }
   },
   "source": [
    "## Correlation doesn't imply Causation\n",
    "\n",
    "However, correlation does not imply causation. There may be, for example, an unknown factor that influences both variables similarly.\n",
    "\n",
    "Causation indicates that one event is the result of the occurrence of the other event; i.e. there is a causal relationship between the two events. This is also referred to as cause and effect. \n",
    "\n",
    "A statistically significant correlation has been reported, for example, between yellow cars and a lower incidence of accidents. That does not indicate that yellow cars are safer, but just that fewer yellow cars are involved in accidents. A third factor, such as the personality type of the purchaser of yellow cars, is more likely to be responsible than the color of the paint itself.\n",
    "\n"
   ]
  },
  {
   "cell_type": "code",
   "execution_count": 20,
   "metadata": {},
   "outputs": [
    {
     "data": {
      "text/html": [
       "<div>\n",
       "<style scoped>\n",
       "    .dataframe tbody tr th:only-of-type {\n",
       "        vertical-align: middle;\n",
       "    }\n",
       "\n",
       "    .dataframe tbody tr th {\n",
       "        vertical-align: top;\n",
       "    }\n",
       "\n",
       "    .dataframe thead th {\n",
       "        text-align: right;\n",
       "    }\n",
       "</style>\n",
       "<table border=\"1\" class=\"dataframe\">\n",
       "  <thead>\n",
       "    <tr style=\"text-align: right;\">\n",
       "      <th></th>\n",
       "      <th>Date/Time</th>\n",
       "      <th>Temp (C)</th>\n",
       "      <th>Dew Point Temp (C)</th>\n",
       "      <th>Rel Hum (%)</th>\n",
       "      <th>Wind Spd (km/h)</th>\n",
       "      <th>Visibility (km)</th>\n",
       "      <th>Stn Press (kPa)</th>\n",
       "      <th>Weather</th>\n",
       "    </tr>\n",
       "  </thead>\n",
       "  <tbody>\n",
       "    <tr>\n",
       "      <th>0</th>\n",
       "      <td>2012-01-01 00:00:00</td>\n",
       "      <td>-1.8</td>\n",
       "      <td>-3.9</td>\n",
       "      <td>86</td>\n",
       "      <td>4</td>\n",
       "      <td>8.0</td>\n",
       "      <td>101.24</td>\n",
       "      <td>Fog</td>\n",
       "    </tr>\n",
       "    <tr>\n",
       "      <th>1</th>\n",
       "      <td>2012-01-01 01:00:00</td>\n",
       "      <td>-1.8</td>\n",
       "      <td>-3.7</td>\n",
       "      <td>87</td>\n",
       "      <td>4</td>\n",
       "      <td>8.0</td>\n",
       "      <td>101.24</td>\n",
       "      <td>Fog</td>\n",
       "    </tr>\n",
       "    <tr>\n",
       "      <th>2</th>\n",
       "      <td>2012-01-01 02:00:00</td>\n",
       "      <td>-1.8</td>\n",
       "      <td>-3.4</td>\n",
       "      <td>89</td>\n",
       "      <td>7</td>\n",
       "      <td>4.0</td>\n",
       "      <td>101.26</td>\n",
       "      <td>Freezing Drizzle,Fog</td>\n",
       "    </tr>\n",
       "    <tr>\n",
       "      <th>3</th>\n",
       "      <td>2012-01-01 03:00:00</td>\n",
       "      <td>-1.5</td>\n",
       "      <td>-3.2</td>\n",
       "      <td>88</td>\n",
       "      <td>6</td>\n",
       "      <td>4.0</td>\n",
       "      <td>101.27</td>\n",
       "      <td>Freezing Drizzle,Fog</td>\n",
       "    </tr>\n",
       "    <tr>\n",
       "      <th>4</th>\n",
       "      <td>2012-01-01 04:00:00</td>\n",
       "      <td>-1.5</td>\n",
       "      <td>-3.3</td>\n",
       "      <td>88</td>\n",
       "      <td>7</td>\n",
       "      <td>4.8</td>\n",
       "      <td>101.23</td>\n",
       "      <td>Fog</td>\n",
       "    </tr>\n",
       "  </tbody>\n",
       "</table>\n",
       "</div>"
      ],
      "text/plain": [
       "             Date/Time  Temp (C)  Dew Point Temp (C)  Rel Hum (%)  \\\n",
       "0  2012-01-01 00:00:00      -1.8                -3.9           86   \n",
       "1  2012-01-01 01:00:00      -1.8                -3.7           87   \n",
       "2  2012-01-01 02:00:00      -1.8                -3.4           89   \n",
       "3  2012-01-01 03:00:00      -1.5                -3.2           88   \n",
       "4  2012-01-01 04:00:00      -1.5                -3.3           88   \n",
       "\n",
       "   Wind Spd (km/h)  Visibility (km)  Stn Press (kPa)               Weather  \n",
       "0                4              8.0           101.24                   Fog  \n",
       "1                4              8.0           101.24                   Fog  \n",
       "2                7              4.0           101.26  Freezing Drizzle,Fog  \n",
       "3                6              4.0           101.27  Freezing Drizzle,Fog  \n",
       "4                7              4.8           101.23                   Fog  "
      ]
     },
     "execution_count": 20,
     "metadata": {},
     "output_type": "execute_result"
    }
   ],
   "source": [
    "df = pd.read_csv('../data/weather_2012.csv')\n",
    "df.head()"
   ]
  },
  {
   "cell_type": "code",
   "execution_count": null,
   "metadata": {},
   "outputs": [],
   "source": []
  },
  {
   "cell_type": "markdown",
   "metadata": {},
   "source": [
    "<img src=\"../images/icon/ppt-icons.png\" alt=\"Concept-Alert\" style=\"width: 100px;float:left; margin-right:15px\"/>\n",
    "<br /> \n",
    "\n",
    "##  Mini-Challenge - 1\n",
    "***\n",
    "In the weather dataset, find the mean and median for Wind Speed and Temperature columns"
   ]
  },
  {
   "cell_type": "code",
   "execution_count": 66,
   "metadata": {},
   "outputs": [
    {
     "name": "stdout",
     "output_type": "stream",
     "text": [
      "Mean Wind Speed: 14.94546903460838\n",
      "Median Wind Speed: 13.0\n",
      "Mean Temperature: 8.798144353369764\n",
      "Median Temperature: 9.3\n"
     ]
    }
   ],
   "source": [
    "wind_mean = np.mean(df['Wind Spd (km/h)'])\n",
    "print('Mean Wind Speed:', wind_mean)\n",
    "wind_median = np.median(df['Wind Spd (km/h)'])\n",
    "print('Median Wind Speed:', wind_median)\n",
    "\n",
    "temp_mean = np.mean(df['Temp (C)'])\n",
    "print('Mean Temperature:', temp_mean)\n",
    "temp_median = np.median(df['Temp (C)'])\n",
    "print('Median Temperature:', temp_median)"
   ]
  },
  {
   "cell_type": "markdown",
   "metadata": {},
   "source": [
    "<img src=\"../images/icon/ppt-icons.png\" alt=\"Concept-Alert\" style=\"width: 100px;float:left; margin-right:15px\"/>\n",
    "<br /> \n",
    "\n",
    "##  Mini-Challenge - 2\n",
    "***\n",
    "In the weather dataset, find the mode for the Weather column"
   ]
  },
  {
   "cell_type": "code",
   "execution_count": 68,
   "metadata": {},
   "outputs": [
    {
     "data": {
      "text/plain": [
       "'Mainly Clear'"
      ]
     },
     "execution_count": 68,
     "metadata": {},
     "output_type": "execute_result"
    }
   ],
   "source": [
    "df['Weather'].mode()[0]"
   ]
  },
  {
   "cell_type": "markdown",
   "metadata": {},
   "source": [
    "<img src=\"../images/icon/ppt-icons.png\" alt=\"Concept-Alert\" style=\"width: 100px;float:left; margin-right:15px\"/>\n",
    "<br /> \n",
    "\n",
    "##  Mini-Challenge - 3\n",
    "***\n",
    "Find out the skewness, if any of the Wind Speed and Temperature columns by plotting a histogram"
   ]
  },
  {
   "cell_type": "code",
   "execution_count": 87,
   "metadata": {},
   "outputs": [
    {
     "data": {
      "image/png": "[encoded data removed]",
      "text/plain": [
       "<Figure size 432x288 with 1 Axes>"
      ]
     },
     "metadata": {
      "needs_background": "light"
     },
     "output_type": "display_data"
    },
    {
     "data": {
      "image/png": "[encoded data removed]",
      "text/plain": [
       "<Figure size 432x288 with 1 Axes>"
      ]
     },
     "metadata": {
      "needs_background": "light"
     },
     "output_type": "display_data"
    }
   ],
   "source": [
    "plt.hist(df['Wind Spd (km/h)'], bins=40)\n",
    "plt.plot([wind_mean]*1200, range(1200), label='mean')\n",
    "plt.plot([wind_median]*1200, range(1200), label='median')\n",
    "plt.xlabel('Wind Speed (km/h)')\n",
    "plt.ylabel('Frequency')\n",
    "plt.legend()\n",
    "plt.show()\n",
    "plt.hist(df['Temp (C)'], bins=50)\n",
    "plt.plot([temp_mean]*500, range(500), label='mean')\n",
    "plt.plot([temp_median]*500, range(500), label='median')\n",
    "plt.xlabel('Temperature (C)')\n",
    "plt.ylabel('Frequency')\n",
    "plt.show()"
   ]
  },
  {
   "cell_type": "markdown",
   "metadata": {},
   "source": [
    "<img src=\"../images/icon/ppt-icons.png\" alt=\"Concept-Alert\" style=\"width: 100px;float:left; margin-right:15px\"/>\n",
    "<br /> \n",
    "\n",
    "##  Mini-Challenge - 4\n",
    "***\n",
    "Find out the variance and standard deviation for Dew Point Temperature column."
   ]
  },
  {
   "cell_type": "code",
   "execution_count": 89,
   "metadata": {},
   "outputs": [
    {
     "name": "stdout",
     "output_type": "stream",
     "text": [
      "Variance: 118.44126310397507\n",
      "Standard deviation: 10.883072319155794\n"
     ]
    }
   ],
   "source": [
    "from math import sqrt\n",
    "\n",
    "dew_var = df['Dew Point Temp (C)'].var()\n",
    "print('Variance:', dew_var)\n",
    "dew_std = sqrt(dew_var)\n",
    "print('Standard deviation:', dew_std)"
   ]
  },
  {
   "cell_type": "markdown",
   "metadata": {},
   "source": [
    "<img src=\"../images/icon/ppt-icons.png\" alt=\"Concept-Alert\" style=\"width: 100px;float:left; margin-right:15px\"/>\n",
    "<br /> \n",
    "\n",
    "##  Mini-Challenge - 5\n",
    "***\n",
    "Find out the correlation between all the continuous features in the weather dataset and plot a heatmap using Seaborn."
   ]
  },
  {
   "cell_type": "code",
   "execution_count": 93,
   "metadata": {},
   "outputs": [
    {
     "data": {
      "image/png": "[encoded data removed]",
      "text/plain": [
       "<Figure size 432x288 with 2 Axes>"
      ]
     },
     "metadata": {
      "needs_background": "light"
     },
     "output_type": "display_data"
    },
    {
     "name": "stdout",
     "output_type": "stream",
     "text": [
      "                    Temp (C)  Dew Point Temp (C)  Wind Spd (km/h)  \\\n",
      "Temp (C)            1.000000            0.932714        -0.061876   \n",
      "Dew Point Temp (C)  0.932714            1.000000        -0.095685   \n",
      "Wind Spd (km/h)    -0.061876           -0.095685         1.000000   \n",
      "Rel Hum (%)        -0.220182            0.139494        -0.092743   \n",
      "Visibility (km)     0.273455            0.050813         0.004883   \n",
      "Stn Press (kPa)    -0.236389           -0.320616        -0.356613   \n",
      "\n",
      "                    Rel Hum (%)  Visibility (km)  Stn Press (kPa)  \n",
      "Temp (C)              -0.220182         0.273455        -0.236389  \n",
      "Dew Point Temp (C)     0.139494         0.050813        -0.320616  \n",
      "Wind Spd (km/h)       -0.092743         0.004883        -0.356613  \n",
      "Rel Hum (%)            1.000000        -0.633683        -0.231424  \n",
      "Visibility (km)       -0.633683         1.000000         0.231847  \n",
      "Stn Press (kPa)       -0.231424         0.231847         1.000000  \n"
     ]
    }
   ],
   "source": [
    "import seaborn as sns\n",
    "features = df[['Temp (C)', 'Dew Point Temp (C)', 'Wind Spd (km/h)', 'Rel Hum (%)', 'Visibility (km)', 'Stn Press (kPa)']]\n",
    "feat_corr = features.corr()\n",
    "sns.heatmap(feat_corr)\n",
    "plt.show()\n",
    "print(feat_corr)"
   ]
  },
  {
   "cell_type": "markdown",
   "metadata": {
    "slideshow": {
     "slide_type": "slide"
    }
   },
   "source": [
    "<img src=\"../images/Recap.png\" alt=\"Recap\" style=\"width: 100px;float:left; margin-right:15px\"/>\n",
    "<br />\n",
    "\n",
    "# In-session Recap Time\n",
    "***\n",
    "- Mean\n",
    "- Median\n",
    "- Spread\n",
    "    - Range\n",
    "    - Interquantile Range\n",
    "- Mode\n",
    "- Variance\n",
    "- Correlation v/s Causation"
   ]
  },
  {
   "cell_type": "markdown",
   "metadata": {
    "slideshow": {
     "slide_type": "slide"
    }
   },
   "source": [
    "# Thank You\n",
    "***\n",
    "\n",
    "### Next Session: Basic Probability, Hypothesis Testing, t-test e.t.c\n",
    "For more queries - Reach out to [academics@greyatom.com](academics@greyatom.com)"
   ]
  },
  {
   "cell_type": "code",
   "execution_count": null,
   "metadata": {},
   "outputs": [],
   "source": []
  }
 ],
 "metadata": {
  "anaconda-cloud": {},
  "celltoolbar": "Slideshow",
  "kernelspec": {
   "display_name": "Python 3",
   "language": "python",
   "name": "python3"
  },
  "language_info": {
   "codemirror_mode": {
    "name": "ipython",
    "version": 3
   },
   "file_extension": ".py",
   "mimetype": "text/x-python",
   "name": "python",
   "nbconvert_exporter": "python",
   "pygments_lexer": "ipython3",
   "version": "3.7.1"
  },
  "widgets": {
   "state": {},
   "version": "1.1.2"
  }
 },
 "nbformat": 4,
 "nbformat_minor": 2
}
